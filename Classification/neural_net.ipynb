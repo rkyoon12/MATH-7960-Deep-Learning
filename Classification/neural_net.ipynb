{
  "nbformat": 4,
  "nbformat_minor": 0,
  "metadata": {
    "colab": {
      "name": "homework1_neural_net.ipynb",
      "version": "0.3.2",
      "provenance": [],
      "collapsed_sections": []
    },
    "kernelspec": {
      "display_name": "Python 3",
      "language": "python",
      "name": "python3"
    }
  },
  "cells": [
    {
      "metadata": {
        "id": "ditCO_0axJ6d",
        "colab_type": "text"
      },
      "cell_type": "markdown",
      "source": [
        "# Homework 1: Classifiers"
      ]
    },
    {
      "metadata": {
        "id": "L8hZaIqwHdWX",
        "colab_type": "text"
      },
      "cell_type": "markdown",
      "source": [
        "# Two-layer Neural Network classifier\n",
        "In this exercise we will develop a neural network with fully-connected layers to perform classification, and test it out on the CIFAR-10 dataset."
      ]
    },
    {
      "metadata": {
        "id": "SvPANltXHdWY",
        "colab_type": "code",
        "colab": {}
      },
      "cell_type": "code",
      "source": [
        "import numpy as np\n",
        "import matplotlib.pyplot as plt\n",
        "import seaborn as sns\n",
        "\n",
        "sns.set()"
      ],
      "execution_count": 0,
      "outputs": []
    },
    {
      "metadata": {
        "id": "52gglYxYxXok",
        "colab_type": "code",
        "colab": {}
      },
      "cell_type": "code",
      "source": [
        "def rel_error(x, y):\n",
        "    \"\"\" returns relative error \"\"\"\n",
        "    return np.max(np.abs(x - y) / (np.maximum(1e-8, np.abs(x) + np.abs(y))))"
      ],
      "execution_count": 0,
      "outputs": []
    },
    {
      "metadata": {
        "id": "M-JB6JcQylOj",
        "colab_type": "text"
      },
      "cell_type": "markdown",
      "source": [
        "## Define a two-layer neural network classifier\n",
        "\n",
        "We will use the class `TwoLayerNet` below to represent instances of our network. The network parameters are stored in the instance variable `self.params` where keys are string parameter names and values are numpy arrays. Below, we initialize toy data and a toy model that we will use to develop your implementation.  Most of the code for this class already exists, but you will need to write code of your own to finish it.  Follow the instructions in the TODO sections."
      ]
    },
    {
      "metadata": {
        "id": "eHEn-bWqyUAF",
        "colab_type": "code",
        "colab": {}
      },
      "cell_type": "code",
      "source": [
        "class TwoLayerNet(object):\n",
        "  \"\"\"\n",
        "  A two-layer fully-connected neural network. The net has an input dimension of\n",
        "  N, a hidden layer dimension of H, and performs classification over C classes.\n",
        "  We train the network with a softmax loss function and L2 regularization on the\n",
        "  weight matrices. The network uses a ReLU nonlinearity after the first fully\n",
        "  connected layer.\n",
        "\n",
        "  In other words, the network has the following architecture:\n",
        "\n",
        "  input -> fully connected layer -> ReLU -> fully connected layer -> softmax\n",
        "\n",
        "  The outputs of the second fully-connected layer are the scores for each class.\n",
        "  \"\"\"\n",
        "\n",
        "  def __init__(self, input_size, hidden_size, output_size, std=1e-4):\n",
        "    \"\"\"\n",
        "    Initialize the model. Weights are initialized to small random values and\n",
        "    biases are initialized to zero. Weights and biases are stored in the\n",
        "    variable self.params, which is a dictionary with the following keys:\n",
        "\n",
        "    W1: First layer weights; has shape (D, H)\n",
        "    b1: First layer biases; has shape (H,)\n",
        "    W2: Second layer weights; has shape (H, C)\n",
        "    b2: Second layer biases; has shape (C,)\n",
        "\n",
        "    Inputs:\n",
        "    - input_size: The dimension D of the input data.\n",
        "    - hidden_size: The number of neurons H in the hidden layer.\n",
        "    - output_size: The number of classes C.\n",
        "    \"\"\"\n",
        "    self.params = {}\n",
        "    self.params['W1'] = std * np.random.randn(input_size, hidden_size)\n",
        "    self.params['b1'] = np.zeros(hidden_size)\n",
        "    self.params['W2'] = std * np.random.randn(hidden_size, output_size)\n",
        "    self.params['b2'] = np.zeros(output_size)\n",
        "\n",
        "  def loss(self, X, y=None, reg=0.0):\n",
        "    \"\"\"\n",
        "    Compute the loss and gradients for a two layer fully connected neural\n",
        "    network.\n",
        "\n",
        "    Inputs:\n",
        "    - X: Input data of shape (N, D). Each X[i] is a training sample.\n",
        "    - y: Vector of training labels. y[i] is the label for X[i], and each y[i] is\n",
        "      an integer in the range 0 <= y[i] < C. This parameter is optional; if it\n",
        "      is not passed then we only return scores, and if it is passed then we\n",
        "      instead return the loss and gradients.\n",
        "    - reg: Regularization strength.\n",
        "\n",
        "    Returns:\n",
        "    If y is None, return a matrix scores of shape (N, C) where scores[i, c] is\n",
        "    the score for class c on input X[i].\n",
        "\n",
        "    If y is not None, instead return a tuple of:\n",
        "    - loss: Loss (data loss and regularization loss) for this batch of training\n",
        "      samples.\n",
        "    - grads: Dictionary mapping parameter names to gradients of those parameters\n",
        "      with respect to the loss function; has the same keys as self.params.\n",
        "    \"\"\"\n",
        "    # Unpack variables from the params dictionary\n",
        "    W1, b1 = self.params['W1'], self.params['b1']\n",
        "    W2, b2 = self.params['W2'], self.params['b2']\n",
        "    N, D = X.shape\n",
        "\n",
        "    # Compute the forward pass\n",
        "    scores = None\n",
        "    #############################################################################\n",
        "    # TODO: Perform the forward pass, computing the class scores for the input. #\n",
        "    # Store the result in the scores variable, which should be an array of      #\n",
        "    # shape (N, C).                                                             #\n",
        "    #############################################################################\n",
        "    z1 = X.dot(W1) + b1\n",
        "    a1 = np.maximum(0, z1) # pass through ReLU activation function\n",
        "    scores = a1.dot(W2) + b2\n",
        "    #############################################################################\n",
        "    #                              END OF YOUR CODE                             #\n",
        "    #############################################################################\n",
        "    \n",
        "    # If the targets are not given then jump out, we're done\n",
        "    if y is None:\n",
        "      return scores\n",
        "\n",
        "    # Compute the loss\n",
        "    loss = None\n",
        "    #############################################################################\n",
        "    # TODO: Finish the forward pass, and compute the loss. This should include  #\n",
        "    # both the data loss and L2 regularization for W1 and W2. Store the result  #\n",
        "    # in the variable loss, which should be a scalar. Use the Softmax           #\n",
        "    # classifier loss.                                                          #\n",
        "    #############################################################################\n",
        "     # compute the class probabilities\n",
        "    exp_scores = np.exp(scores)\n",
        "    probs = exp_scores / np.sum(exp_scores, axis=1, keepdims=True) # [N x K]\n",
        "\n",
        "    # average cross-entropy loss and regularization\n",
        "    corect_logprobs = -np.log(probs[range(N), y])\n",
        "    data_loss = np.sum(corect_logprobs) / N\n",
        "    reg_loss = 0.5 * reg * np.sum(W1 * W1) + 0.5 * reg * np.sum(W2 * W2)\n",
        "    loss = data_loss + reg_loss\n",
        "    #############################################################################\n",
        "    #                              END OF YOUR CODE                             #\n",
        "    #############################################################################\n",
        "\n",
        "    # Backward pass: compute gradients\n",
        "    grads = {}\n",
        "    #############################################################################\n",
        "    # TODO: Compute the backward pass, computing the derivatives of the weights #\n",
        "    # and biases. Store the results in the grads dictionary. For example,       #\n",
        "    # grads['W1'] should store the gradient on W1, and be a matrix of same size #\n",
        "    #############################################################################\n",
        "    # compute the gradient on scores\n",
        "    dscores = probs\n",
        "    dscores[range(N),y] -= 1\n",
        "    dscores /= N\n",
        "\n",
        "    # W2 and b2\n",
        "    grads['W2'] = np.dot(a1.T, dscores)\n",
        "    grads['b2'] = np.sum(dscores, axis=0)\n",
        "    # next backprop into hidden layer\n",
        "    dhidden = np.dot(dscores, W2.T)\n",
        "    # backprop the ReLU non-linearity\n",
        "    dhidden[a1 <= 0] = 0\n",
        "    # finally into W,b\n",
        "    grads['W1'] = np.dot(X.T, dhidden)\n",
        "    grads['b1'] = np.sum(dhidden, axis=0)\n",
        "\n",
        "    # add regularization gradient contribution\n",
        "    grads['W2'] += reg * W2\n",
        "    grads['W1'] += reg * W1\n",
        "    #############################################################################\n",
        "    #                              END OF YOUR CODE                             #\n",
        "    #############################################################################\n",
        "\n",
        "    return loss, grads\n",
        "\n",
        "  def train(self, X, y, X_val, y_val,\n",
        "            learning_rate=1e-3, learning_rate_decay=0.95,\n",
        "            reg=5e-6, num_iters=100,\n",
        "            batch_size=200, verbose=False):\n",
        "    \"\"\"\n",
        "    Train this neural network using stochastic gradient descent.\n",
        "\n",
        "    Inputs:\n",
        "    - X: A numpy array of shape (N, D) giving training data.\n",
        "    - y: A numpy array f shape (N,) giving training labels; y[i] = c means that\n",
        "      X[i] has label c, where 0 <= c < C.\n",
        "    - X_val: A numpy array of shape (N_val, D) giving validation data.\n",
        "    - y_val: A numpy array of shape (N_val,) giving validation labels.\n",
        "    - learning_rate: Scalar giving learning rate for optimization.\n",
        "    - learning_rate_decay: Scalar giving factor used to decay the learning rate\n",
        "      after each epoch.\n",
        "    - reg: Scalar giving regularization strength.\n",
        "    - num_iters: Number of steps to take when optimizing.\n",
        "    - batch_size: Number of training examples to use per step.\n",
        "    - verbose: boolean; if true print progress during optimization.\n",
        "    \"\"\"\n",
        "    num_train = X.shape[0]\n",
        "    iterations_per_epoch = max(num_train / batch_size, 1)\n",
        "\n",
        "    # Use SGD to optimize the parameters in self.model\n",
        "    loss_history = []\n",
        "    train_acc_history = []\n",
        "    val_acc_history = []\n",
        "\n",
        "    for it in range(num_iters):\n",
        "      X_batch = None\n",
        "      y_batch = None\n",
        "\n",
        "      #########################################################################\n",
        "      # TODO: Create a random minibatch of training data and labels, storing  #\n",
        "      # them in X_batch and y_batch respectively.                             #\n",
        "      #########################################################################\n",
        "      sample_indices = np.random.choice(np.arange(num_train), batch_size)\n",
        "      X_batch = X[sample_indices]\n",
        "      y_batch = y[sample_indices]\n",
        "      #########################################################################\n",
        "      #                             END OF YOUR CODE                          #\n",
        "      #########################################################################\n",
        "\n",
        "      # Compute loss and gradients using the current minibatch\n",
        "      loss, grads = self.loss(X_batch, y=y_batch, reg=reg)\n",
        "      loss_history.append(loss)\n",
        "\n",
        "      #########################################################################\n",
        "      # TODO: Use the gradients in the grads dictionary to update the         #\n",
        "      # parameters of the network (stored in the dictionary self.params)      #\n",
        "      # using stochastic gradient descent. You'll need to use the gradients   #\n",
        "      # stored in the grads dictionary defined above.                         #\n",
        "      #########################################################################\n",
        "      self.params['W1'] += -learning_rate * grads['W1']\n",
        "      self.params['b1'] += -learning_rate * grads['b1']\n",
        "      self.params['W2'] += -learning_rate * grads['W2']\n",
        "      self.params['b2'] += -learning_rate * grads['b2']\n",
        "      #########################################################################\n",
        "      #                             END OF YOUR CODE                          #\n",
        "      #########################################################################\n",
        "\n",
        "      if verbose and it % 100 == 0:\n",
        "        print('iteration %d / %d: loss %f' % (it, num_iters, loss))\n",
        "\n",
        "      # Every epoch, check train and val accuracy and decay learning rate.\n",
        "      if it % iterations_per_epoch == 0:\n",
        "        # Check accuracy\n",
        "        train_acc = (self.predict(X_batch) == y_batch).mean()\n",
        "        val_acc = (self.predict(X_val) == y_val).mean()\n",
        "        train_acc_history.append(train_acc)\n",
        "        val_acc_history.append(val_acc)\n",
        "\n",
        "        # Decay learning rate\n",
        "        learning_rate *= learning_rate_decay\n",
        "\n",
        "    return {\n",
        "      'loss_history': loss_history,\n",
        "      'train_acc_history': train_acc_history,\n",
        "      'val_acc_history': val_acc_history,\n",
        "    }\n",
        "\n",
        "  def predict(self, X):\n",
        "    \"\"\"\n",
        "    Use the trained weights of this two-layer network to predict labels for\n",
        "    data points. For each data point we predict scores for each of the C\n",
        "    classes, and assign each data point to the class with the highest score.\n",
        "\n",
        "    Inputs:\n",
        "    - X: A numpy array of shape (N, D) giving N D-dimensional data points to\n",
        "      classify.\n",
        "\n",
        "    Returns:\n",
        "    - y_pred: A numpy array of shape (N,) giving predicted labels for each of\n",
        "      the elements of X. For all i, y_pred[i] = c means that X[i] is predicted\n",
        "      to have class c, where 0 <= c < C.\n",
        "    \"\"\"\n",
        "    y_pred = None\n",
        "\n",
        "    ###########################################################################\n",
        "    # TODO: Implement this function; it should be VERY simple!                #\n",
        "    ###########################################################################\n",
        "    z1 = X.dot(self.params['W1']) + self.params['b1']\n",
        "    a1 = np.maximum(0, z1) # pass through ReLU activation function\n",
        "    scores = a1.dot(self.params['W2']) + self.params['b2']\n",
        "    y_pred = np.argmax(scores, axis=1)\n",
        "    ###########################################################################\n",
        "    #                              END OF YOUR CODE                           #\n",
        "    ###########################################################################\n",
        "\n",
        "    return y_pred\n",
        "\n"
      ],
      "execution_count": 0,
      "outputs": []
    },
    {
      "metadata": {
        "id": "QveMSRB-HdWd",
        "colab_type": "code",
        "colab": {}
      },
      "cell_type": "code",
      "source": [
        "# Create a small net and some toy data to check your implementations.\n",
        "# Note that we set the random seed for repeatable experiments.\n",
        "\n",
        "input_size = 4\n",
        "hidden_size = 10\n",
        "num_classes = 3\n",
        "num_inputs = 5\n",
        "\n",
        "def init_toy_model():\n",
        "    np.random.seed(0)\n",
        "    return TwoLayerNet(input_size, hidden_size, num_classes, std=1e-1)\n",
        "\n",
        "def init_toy_data():\n",
        "    np.random.seed(1)\n",
        "    X = 10 * np.random.randn(num_inputs, input_size)\n",
        "    y = np.array([0, 1, 2, 2, 1])\n",
        "    return X, y\n",
        "\n",
        "net = init_toy_model()\n",
        "X, y = init_toy_data()"
      ],
      "execution_count": 0,
      "outputs": []
    },
    {
      "metadata": {
        "id": "bUbm-kRoHdWg",
        "colab_type": "text"
      },
      "cell_type": "markdown",
      "source": [
        "# Forward pass: compute scores\n",
        "Notice that the `loss` method in the `TwoLayerNet` class above is very similar to the loss functions you have written for the SVM and Softmax exercises: It takes the data and weights and computes the class scores, the loss, and the gradients on the parameters. \n",
        "\n",
        "Implement the first part of the forward pass which uses the weights and biases to compute the scores for all inputs, then check your implementation below."
      ]
    },
    {
      "metadata": {
        "id": "vbG_yhWxHdWh",
        "colab_type": "code",
        "colab": {
          "base_uri": "https://localhost:8080/",
          "height": 286
        },
        "outputId": "1df9274e-ee01-4f6b-8324-ef1e676d63a6"
      },
      "cell_type": "code",
      "source": [
        "scores = net.loss(X)\n",
        "print('Your scores:')\n",
        "print(scores)\n",
        "print()\n",
        "print('correct scores:')\n",
        "correct_scores = np.asarray([\n",
        "  [-0.81233741, -1.27654624, -0.70335995],\n",
        "  [-0.17129677, -1.18803311, -0.47310444],\n",
        "  [-0.51590475, -1.01354314, -0.8504215 ],\n",
        "  [-0.15419291, -0.48629638, -0.52901952],\n",
        "  [-0.00618733, -0.12435261, -0.15226949]])\n",
        "print(correct_scores)\n",
        "print()\n",
        "\n",
        "# The difference should be very small. We get < 1e-7\n",
        "print('Difference between your scores and correct scores:')\n",
        "print(np.sum(np.abs(scores - correct_scores)))"
      ],
      "execution_count": 0,
      "outputs": [
        {
          "output_type": "stream",
          "text": [
            "Your scores:\n",
            "[[-0.81233741 -1.27654624 -0.70335995]\n",
            " [-0.17129677 -1.18803311 -0.47310444]\n",
            " [-0.51590475 -1.01354314 -0.8504215 ]\n",
            " [-0.15419291 -0.48629638 -0.52901952]\n",
            " [-0.00618733 -0.12435261 -0.15226949]]\n",
            "\n",
            "correct scores:\n",
            "[[-0.81233741 -1.27654624 -0.70335995]\n",
            " [-0.17129677 -1.18803311 -0.47310444]\n",
            " [-0.51590475 -1.01354314 -0.8504215 ]\n",
            " [-0.15419291 -0.48629638 -0.52901952]\n",
            " [-0.00618733 -0.12435261 -0.15226949]]\n",
            "\n",
            "Difference between your scores and correct scores:\n",
            "3.6802720745909845e-08\n"
          ],
          "name": "stdout"
        }
      ]
    },
    {
      "metadata": {
        "id": "soHElyQIHdWk",
        "colab_type": "text"
      },
      "cell_type": "markdown",
      "source": [
        "# Forward pass: compute loss\n",
        "In the same function, implement the second part that computes the data and regularizaion loss."
      ]
    },
    {
      "metadata": {
        "id": "sRRcGcvcHdWl",
        "colab_type": "code",
        "colab": {
          "base_uri": "https://localhost:8080/",
          "height": 51
        },
        "outputId": "57dd9502-541a-4997-d364-07562d4434de"
      },
      "cell_type": "code",
      "source": [
        "loss, _ = net.loss(X, y, reg=0.05)\n",
        "correct_loss = 1.30378789133\n",
        "\n",
        "# should be very small, we get < 1e-12\n",
        "print('Difference between your loss and correct loss:')\n",
        "print(np.sum(np.abs(loss - correct_loss)))"
      ],
      "execution_count": 0,
      "outputs": [
        {
          "output_type": "stream",
          "text": [
            "Difference between your loss and correct loss:\n",
            "0.01896541960606335\n"
          ],
          "name": "stdout"
        }
      ]
    },
    {
      "metadata": {
        "id": "oTs_drlxHdWp",
        "colab_type": "text"
      },
      "cell_type": "markdown",
      "source": [
        "# Backward pass\n",
        "Implement the rest of the function. This will compute the gradient of the loss with respect to the variables `W1`, `b1`, `W2`, and `b2`. Now that you (hopefully!) have a correctly implemented forward pass, you can debug your backward pass using a numeric gradient check:"
      ]
    },
    {
      "metadata": {
        "id": "5392Tk-YHdWq",
        "colab_type": "code",
        "colab": {
          "base_uri": "https://localhost:8080/",
          "height": 84
        },
        "outputId": "dbe85f75-8419-4c39-c350-405661e8e4b3"
      },
      "cell_type": "code",
      "source": [
        "def eval_numerical_gradient(f, x, verbose=True, h=0.00001):\n",
        "  \"\"\" \n",
        "  a naive implementation of numerical gradient of f at x \n",
        "  - f should be a function that takes a single argument\n",
        "  - x is the point (numpy array) to evaluate the gradient at\n",
        "  \"\"\" \n",
        "\n",
        "  fx = f(x) # evaluate function value at original point\n",
        "  grad = np.zeros_like(x)\n",
        "  # iterate over all indexes in x\n",
        "  it = np.nditer(x, flags=['multi_index'], op_flags=['readwrite'])\n",
        "  while not it.finished:\n",
        "\n",
        "    # evaluate function at x+h\n",
        "    ix = it.multi_index\n",
        "    oldval = x[ix]\n",
        "    x[ix] = oldval + h # increment by h\n",
        "    fxph = f(x) # evalute f(x + h)\n",
        "    x[ix] = oldval - h\n",
        "    fxmh = f(x) # evaluate f(x - h)\n",
        "    x[ix] = oldval # restore\n",
        "\n",
        "    # compute the partial derivative with centered formula\n",
        "    grad[ix] = (fxph - fxmh) / (2 * h) # the slope\n",
        "    if verbose:\n",
        "      print(ix, grad[ix])\n",
        "    it.iternext() # step to next dimension\n",
        "\n",
        "  return grad\n",
        "    \n",
        "# Use numeric gradient checking to check your implementation of the backward pass.\n",
        "# If your implementation is correct, the difference between the numeric and\n",
        "# analytic gradients should be less than 1e-8 for each of W1, W2, b1, and b2.\n",
        "\n",
        "loss, grads = net.loss(X, y, reg=0.05)\n",
        "\n",
        "# these should all be less than 1e-8 or so\n",
        "for param_name in grads:\n",
        "    f = lambda W: net.loss(X, y, reg=0.05)[0]\n",
        "    param_grad_num = eval_numerical_gradient(f, net.params[param_name], verbose=False)\n",
        "    print('%s max relative error: %e' % (param_name, rel_error(param_grad_num, grads[param_name])))"
      ],
      "execution_count": 0,
      "outputs": [
        {
          "output_type": "stream",
          "text": [
            "W2 max relative error: 3.440708e-09\n",
            "b2 max relative error: 4.447646e-11\n",
            "W1 max relative error: 4.090896e-09\n",
            "b1 max relative error: 2.738421e-09\n"
          ],
          "name": "stdout"
        }
      ]
    },
    {
      "metadata": {
        "id": "E-5MhIFRHdWs",
        "colab_type": "text"
      },
      "cell_type": "markdown",
      "source": [
        "# Train the network\n",
        "To train the network we will use stochastic gradient descent (SGD), similar to the SVM and Softmax classifiers. Look at the method `TwoLayerNet.train` and fill in the missing sections to implement the training procedure. This should be very similar to the training procedure you used for the SVM and Softmax classifiers. You will also have to implement `TwoLayerNet.predict`, as the training process periodically performs prediction to keep track of accuracy over time while the network trains.\n",
        "\n",
        "Once you have implemented the method, run the code below to train a two-layer network on toy data. You should achieve a training loss less than 0.2."
      ]
    },
    {
      "metadata": {
        "id": "aUMLfrN5HdWt",
        "colab_type": "code",
        "colab": {}
      },
      "cell_type": "code",
      "source": [
        "net = init_toy_model()\n",
        "stats = net.train(X, y, X, y,\n",
        "                  learning_rate=1e-1, reg=5e-6,\n",
        "                  num_iters=100, verbose=False)\n",
        "\n",
        "print('Final training loss: ', stats['loss_history'][-1])\n",
        "\n",
        "# plot the loss history\n",
        "plt.plot(stats['loss_history'])\n",
        "plt.xlabel('iteration')\n",
        "plt.ylabel('training loss')\n",
        "plt.title('Training Loss history')"
      ],
      "execution_count": 0,
      "outputs": []
    },
    {
      "metadata": {
        "id": "uvOIYktnHdWw",
        "colab_type": "text"
      },
      "cell_type": "markdown",
      "source": [
        "# Load the data\n",
        "Now that you have implemented a two-layer network that passes gradient checks and works on toy data, it's time to load up our favorite CIFAR-10 data so we can use it to train a classifier on a real dataset."
      ]
    },
    {
      "metadata": {
        "id": "vj2GsNNjHdWw",
        "colab_type": "code",
        "colab": {
          "base_uri": "https://localhost:8080/",
          "height": 202
        },
        "outputId": "f198e1e0-83b4-41a6-85d0-e3f883a1975d"
      },
      "cell_type": "code",
      "source": [
        "from keras.datasets import cifar10\n",
        "\n",
        "def get_CIFAR10_data(num_training=49000, num_validation=1000,\n",
        "                     num_test=1000, num_dev=500):\n",
        "    \"\"\"\n",
        "    Load the CIFAR-10 dataset from disk and perform preprocessing to prepare\n",
        "    it for the linear classifier. These are the same steps as we used for the\n",
        "    SVM, but condensed to a single function.  \n",
        "    \"\"\"\n",
        "    # Load the raw CIFAR-10 data\n",
        "    (X_train, y_train), (X_test, y_test) = cifar10.load_data()\n",
        "    \n",
        "    # All the data comes in the uint8 format, so we need to convert\n",
        "    # it to floats so that we compute numbers greater than 255.\n",
        "    X_train = X_train.astype(np.float)\n",
        "    X_test = X_test.astype(np.float)\n",
        "    # Also, for convenience we flatten the class arrays.\n",
        "    y_train = y_train.flatten()\n",
        "    y_test = y_test.flatten()\n",
        "    \n",
        "    # Split the data into train, val, and test sets. In addition we will\n",
        "    # create a small development set as a subset of the training data;\n",
        "    # we can use this for development so our code runs faster.\n",
        "    \n",
        "    # Our validation set will be num_validation points from the original\n",
        "    # training set.\n",
        "    mask = list(range(num_training, num_training + num_validation))\n",
        "    X_val = X_train[mask]\n",
        "    y_val = y_train[mask]\n",
        "    \n",
        "    # Our training set will be the first num_train points from the original\n",
        "    # training set.\n",
        "    mask = list(range(num_training))\n",
        "    X_train = X_train[mask]\n",
        "    y_train = y_train[mask]\n",
        "    \n",
        "    # We will also make a development set, which is a small subset of\n",
        "    # the training set.\n",
        "    mask = np.random.choice(num_training, num_dev, replace=False)\n",
        "    X_dev = X_train[mask]\n",
        "    y_dev = y_train[mask]\n",
        "    \n",
        "    # We use the first num_test points of the original test set as our\n",
        "    # test set.\n",
        "    mask = list(range(num_test))\n",
        "    X_test = X_test[mask]\n",
        "    y_test = y_test[mask]\n",
        "    \n",
        "    # Preprocessing: reshape the image data into rows\n",
        "    X_train = np.reshape(X_train, (X_train.shape[0], -1))\n",
        "    X_val = np.reshape(X_val, (X_val.shape[0], -1))\n",
        "    X_test = np.reshape(X_test, (X_test.shape[0], -1))\n",
        "    X_dev = np.reshape(X_dev, (X_dev.shape[0], -1))\n",
        "    \n",
        "    # Normalize the data: subtract the mean image\n",
        "    mean_image = np.mean(X_train, axis = 0)\n",
        "    X_train -= mean_image\n",
        "    X_val -= mean_image\n",
        "    X_test -= mean_image\n",
        "    X_dev -= mean_image\n",
        "    \n",
        "    return X_train, y_train, X_val, y_val, X_test, y_test, X_dev, y_dev\n",
        "\n",
        "\n",
        "# Invoke the above function to get our data.\n",
        "X_train, y_train, X_val, y_val, X_test, y_test, X_dev, y_dev = get_CIFAR10_data()\n",
        "print('Train data shape: ', X_train.shape)\n",
        "print('Train labels shape: ', y_train.shape)\n",
        "print('Validation data shape: ', X_val.shape)\n",
        "print('Validation labels shape: ', y_val.shape)\n",
        "print('Test data shape: ', X_test.shape)\n",
        "print('Test labels shape: ', y_test.shape)\n",
        "print('dev data shape: ', X_dev.shape)\n",
        "print('dev labels shape: ', y_dev.shape)"
      ],
      "execution_count": 0,
      "outputs": [
        {
          "output_type": "stream",
          "text": [
            "Using TensorFlow backend.\n"
          ],
          "name": "stderr"
        },
        {
          "output_type": "stream",
          "text": [
            "Downloading data from https://www.cs.toronto.edu/~kriz/cifar-10-python.tar.gz\n",
            "170500096/170498071 [==============================] - 44s 0us/step\n",
            "Train data shape:  (49000, 3072)\n",
            "Train labels shape:  (49000,)\n",
            "Validation data shape:  (1000, 3072)\n",
            "Validation labels shape:  (1000,)\n",
            "Test data shape:  (1000, 3072)\n",
            "Test labels shape:  (1000,)\n",
            "dev data shape:  (500, 3072)\n",
            "dev labels shape:  (500,)\n"
          ],
          "name": "stdout"
        }
      ]
    },
    {
      "metadata": {
        "id": "2sxBaCd3HdW1",
        "colab_type": "text"
      },
      "cell_type": "markdown",
      "source": [
        "# Train a network\n",
        "To train our network we will use SGD with momentum. In addition, we will adjust the learning rate with an exponential learning rate schedule as optimization proceeds; after each epoch, we will reduce the learning rate by multiplying it by a decay rate."
      ]
    },
    {
      "metadata": {
        "id": "HVtVaKSjHdW1",
        "colab_type": "code",
        "colab": {
          "base_uri": "https://localhost:8080/",
          "height": 202
        },
        "outputId": "0f87ba6b-f0c1-493e-dbd7-c33b630ce169"
      },
      "cell_type": "code",
      "source": [
        "input_size = 32 * 32 * 3\n",
        "hidden_size = 50\n",
        "num_classes = 10\n",
        "net = TwoLayerNet(input_size, hidden_size, num_classes)\n",
        "\n",
        "# Train the network\n",
        "stats = net.train(X_train, y_train, X_val, y_val,\n",
        "                  num_iters=1000, batch_size=200,\n",
        "                  learning_rate=1e-4, learning_rate_decay=0.95,\n",
        "                  reg=0.25, verbose=True)\n",
        "\n",
        "# Predict on the validation set\n",
        "val_acc = (net.predict(X_val) == y_val).mean()\n",
        "print('Validation accuracy: ', val_acc)\n",
        "\n"
      ],
      "execution_count": 0,
      "outputs": [
        {
          "output_type": "stream",
          "text": [
            "iteration 0 / 1000: loss 2.302785\n",
            "iteration 100 / 1000: loss 2.302220\n",
            "iteration 200 / 1000: loss 2.296237\n",
            "iteration 300 / 1000: loss 2.261738\n",
            "iteration 400 / 1000: loss 2.173673\n",
            "iteration 500 / 1000: loss 2.085697\n",
            "iteration 600 / 1000: loss 1.968098\n",
            "iteration 700 / 1000: loss 1.980549\n",
            "iteration 800 / 1000: loss 1.967940\n",
            "iteration 900 / 1000: loss 1.973428\n",
            "Validation accuracy:  0.281\n"
          ],
          "name": "stdout"
        }
      ]
    },
    {
      "metadata": {
        "id": "7PXhprBIHdW5",
        "colab_type": "text"
      },
      "cell_type": "markdown",
      "source": [
        "# Debug the training\n",
        "With the default parameters we provided above, you should get a validation accuracy of about 0.29 on the validation set. This isn't very good.\n",
        "\n",
        "One strategy for getting insight into what's wrong is to plot the loss function and the accuracies on the training and validation sets during optimization.\n",
        "\n",
        "Another strategy is to visualize the weights that were learned in the first layer of the network. In most neural networks trained on visual data, the first layer weights typically show some visible structure when visualized."
      ]
    },
    {
      "metadata": {
        "id": "0mbfu8COHdW5",
        "colab_type": "code",
        "colab": {
          "base_uri": "https://localhost:8080/",
          "height": 376
        },
        "outputId": "de88efe8-36fd-4273-d1bc-05e8669a6a49"
      },
      "cell_type": "code",
      "source": [
        "# Plot the loss function and train / validation accuracies\n",
        "plt.subplot(2, 1, 1)\n",
        "plt.plot(stats['loss_history'])\n",
        "plt.title('Loss history')\n",
        "plt.xlabel('Iteration')\n",
        "plt.ylabel('Loss')\n",
        "\n",
        "plt.subplot(2, 1, 2)\n",
        "plt.plot(stats['train_acc_history'], label='train')\n",
        "plt.plot(stats['val_acc_history'], label='val')\n",
        "plt.title('Classification accuracy history')\n",
        "plt.xlabel('Epoch')\n",
        "plt.ylabel('Clasification accuracy')\n",
        "plt.show()"
      ],
      "execution_count": 0,
      "outputs": [
        {
          "output_type": "display_data",
          "data": {
            "image/png": "[encoded data removed]",
            "text/plain": [
              "<matplotlib.figure.Figure at 0x7ff9c72a9cc0>"
            ]
          },
          "metadata": {
            "tags": []
          }
        }
      ]
    },
    {
      "metadata": {
        "id": "6s0b8Go_HdW8",
        "colab_type": "code",
        "colab": {}
      },
      "cell_type": "code",
      "source": [
        "from math import sqrt, ceil\n",
        "\n",
        "def visualize_grid(Xs, ubound=255.0, padding=1):\n",
        "  \"\"\"\n",
        "  Reshape a 4D tensor of image data to a grid for easy visualization.\n",
        "\n",
        "  Inputs:\n",
        "  - Xs: Data of shape (N, H, W, C)\n",
        "  - ubound: Output grid will have values scaled to the range [0, ubound]\n",
        "  - padding: The number of blank pixels between elements of the grid\n",
        "  \"\"\"\n",
        "  (N, H, W, C) = Xs.shape\n",
        "  grid_size = int(ceil(sqrt(N)))\n",
        "  grid_height = H * grid_size + padding * (grid_size - 1)\n",
        "  grid_width = W * grid_size + padding * (grid_size - 1)\n",
        "  grid = np.zeros((grid_height, grid_width, C))\n",
        "  next_idx = 0\n",
        "  y0, y1 = 0, H\n",
        "  for y in range(grid_size):\n",
        "    x0, x1 = 0, W\n",
        "    for x in range(grid_size):\n",
        "      if next_idx < N:\n",
        "        img = Xs[next_idx]\n",
        "        low, high = np.min(img), np.max(img)\n",
        "        grid[y0:y1, x0:x1] = ubound * (img - low) / (high - low)\n",
        "        # grid[y0:y1, x0:x1] = Xs[next_idx]\n",
        "        next_idx += 1\n",
        "      x0 += W + padding\n",
        "      x1 += W + padding\n",
        "    y0 += H + padding\n",
        "    y1 += H + padding\n",
        "  # grid_max = np.max(grid)\n",
        "  # grid_min = np.min(grid)\n",
        "  # grid = ubound * (grid - grid_min) / (grid_max - grid_min)\n",
        "  return grid\n",
        "\n",
        "\n",
        "# Visualize the weights of the network\n",
        "\n",
        "def show_net_weights(net):\n",
        "    W1 = net.params['W1']\n",
        "    W1 = W1.reshape(32, 32, 3, -1).transpose(3, 0, 1, 2)\n",
        "    plt.imshow(visualize_grid(W1, padding=3).astype('uint8'))\n",
        "    plt.gca().axis('off')\n",
        "    plt.show()\n",
        "\n",
        "show_net_weights(net)"
      ],
      "execution_count": 0,
      "outputs": []
    },
    {
      "metadata": {
        "id": "U14iwSfAHdW_",
        "colab_type": "text"
      },
      "cell_type": "markdown",
      "source": [
        "# Tune your hyperparameters\n",
        "\n",
        "**What's wrong?**. Looking at the visualizations above, we see that the loss is decreasing more or less linearly, which seems to suggest that the learning rate may be too low. Moreover, there is no gap between the training and validation accuracy, suggesting that the model we used has low capacity, and that we should increase its size. On the other hand, with a very large model we would expect to see more overfitting, which would manifest itself as a very large gap between the training and validation accuracy.\n",
        "\n",
        "**Tuning**. Tuning the hyperparameters and developing intuition for how they affect the final performance is a large part of using Neural Networks, so we want you to get a lot of practice. Below, you should experiment with different values of the various hyperparameters, including hidden layer size, learning rate, numer of training epochs, and regularization strength. You might also consider tuning the learning rate decay, but you should be able to get good performance using the default value.\n",
        "\n",
        "**Approximate results**. You should be aim to achieve a classification accuracy of greater than 48% on the validation set. Our best network gets over 52% on the validation set.\n",
        "\n",
        "**Experiment**: You goal in this exercise is to get as good of a result on CIFAR-10 as you can, with a fully-connected Neural Network."
      ]
    },
    {
      "metadata": {
        "id": "qKm_SH80HdW_",
        "colab_type": "code",
        "colab": {
          "base_uri": "https://localhost:8080/",
          "height": 319
        },
        "outputId": "fb69d3f1-a767-4b2b-a28c-c489d0a6dce7"
      },
      "cell_type": "code",
      "source": [
        "best_net = None # store the best model into this \n",
        "\n",
        "#################################################################################\n",
        "# TODO: Tune hyperparameters using the validation set. Store your best trained  #\n",
        "# model in best_net.                                                            #\n",
        "#                                                                               #\n",
        "# To help debug your network, it may help to use visualizations similar to the  #\n",
        "# ones we used above; these visualizations will have significant qualitative    #\n",
        "# differences from the ones we saw above for the poorly tuned network.          #\n",
        "#                                                                               #\n",
        "# Tweaking hyperparameters by hand can be fun, but you might find it useful to  #\n",
        "# write code to sweep through possible combinations of hyperparameters          #\n",
        "# automatically like we did on the previous exercises.                          #\n",
        "#################################################################################\n",
        "best_val = -1\n",
        "best_stats = None\n",
        "learning_rates = [1e-2, 1e-3]\n",
        "regularization_strengths = [0.4, 0.5, 0.6]\n",
        "results = {} \n",
        "iters = 2000 #100\n",
        "for lr in learning_rates:\n",
        "    for rs in regularization_strengths:\n",
        "        net = TwoLayerNet(input_size, hidden_size, num_classes)\n",
        "\n",
        "        # Train the network\n",
        "        stats = net.train(X_train, y_train, X_val, y_val,\n",
        "                    num_iters=iters, batch_size=200,\n",
        "                    learning_rate=lr, learning_rate_decay=0.95,\n",
        "                    reg=rs)\n",
        "        \n",
        "        y_train_pred = net.predict(X_train)\n",
        "        acc_train = np.mean(y_train == y_train_pred)\n",
        "        y_val_pred = net.predict(X_val)\n",
        "        acc_val = np.mean(y_val == y_val_pred)\n",
        "        \n",
        "        results[(lr, rs)] = (acc_train, acc_val)\n",
        "        \n",
        "        if best_val < acc_val:\n",
        "            best_stats = stats\n",
        "            best_val = acc_val\n",
        "            best_net = net\n",
        "            \n",
        "# Print out results.\n",
        "for lr, reg in sorted(results):\n",
        "    train_accuracy, val_accuracy = results[(lr, reg)]\n",
        "    print ('lr %e reg %e train accuracy: %f val accuracy: %f'%  (lr, reg, train_accuracy, val_accuracy))\n",
        "    \n",
        "print ('best validation accuracy achieved during cross-validation: %f' % best_val )  \n",
        "#################################################################################\n",
        "#                               END OF YOUR CODE                                #\n",
        "#################################################################################\n",
        "# Print out results.\n",
        "for lr, reg in sorted(results):\n",
        "    train_accuracy, val_accuracy = results[(lr, reg)]\n",
        "    print('lr %e reg %e train accuracy: %f val accuracy: %f'% (lr, reg, train_accuracy, val_accuracy))\n",
        "    \n",
        "print('best validation accuracy achieved during cross-validation: %f' % best_val)"
      ],
      "execution_count": 0,
      "outputs": [
        {
          "output_type": "stream",
          "text": [
            "/usr/local/lib/python3.6/dist-packages/ipykernel_launcher.py:97: RuntimeWarning: divide by zero encountered in log\n",
            "/usr/local/lib/python3.6/dist-packages/ipykernel_launcher.py:93: RuntimeWarning: overflow encountered in exp\n",
            "/usr/local/lib/python3.6/dist-packages/ipykernel_launcher.py:94: RuntimeWarning: invalid value encountered in true_divide\n",
            "/usr/local/lib/python3.6/dist-packages/ipykernel_launcher.py:123: RuntimeWarning: invalid value encountered in less_equal\n"
          ],
          "name": "stderr"
        },
        {
          "output_type": "stream",
          "text": [
            "lr 1.000000e-03 reg 4.000000e-01 train accuracy: 0.522143 val accuracy: 0.503000\n",
            "lr 1.000000e-03 reg 5.000000e-01 train accuracy: 0.527265 val accuracy: 0.481000\n",
            "lr 1.000000e-03 reg 6.000000e-01 train accuracy: 0.520694 val accuracy: 0.493000\n",
            "lr 1.000000e-02 reg 4.000000e-01 train accuracy: 0.100265 val accuracy: 0.087000\n",
            "lr 1.000000e-02 reg 5.000000e-01 train accuracy: 0.100265 val accuracy: 0.087000\n",
            "lr 1.000000e-02 reg 6.000000e-01 train accuracy: 0.100265 val accuracy: 0.087000\n",
            "best validation accuracy achieved during cross-validation: 0.503000\n",
            "lr 1.000000e-03 reg 4.000000e-01 train accuracy: 0.522143 val accuracy: 0.503000\n",
            "lr 1.000000e-03 reg 5.000000e-01 train accuracy: 0.527265 val accuracy: 0.481000\n",
            "lr 1.000000e-03 reg 6.000000e-01 train accuracy: 0.520694 val accuracy: 0.493000\n",
            "lr 1.000000e-02 reg 4.000000e-01 train accuracy: 0.100265 val accuracy: 0.087000\n",
            "lr 1.000000e-02 reg 5.000000e-01 train accuracy: 0.100265 val accuracy: 0.087000\n",
            "lr 1.000000e-02 reg 6.000000e-01 train accuracy: 0.100265 val accuracy: 0.087000\n",
            "best validation accuracy achieved during cross-validation: 0.503000\n"
          ],
          "name": "stdout"
        }
      ]
    },
    {
      "metadata": {
        "id": "w3Ono0a8HdXC",
        "colab_type": "code",
        "colab": {}
      },
      "cell_type": "code",
      "source": [
        "# visualize the weights of the best network\n",
        "show_net_weights(best_net)"
      ],
      "execution_count": 0,
      "outputs": []
    },
    {
      "metadata": {
        "id": "wveqI0V5HdXG",
        "colab_type": "text"
      },
      "cell_type": "markdown",
      "source": [
        "# Run on the test set\n",
        "When you are done experimenting, you should evaluate your final trained network on the test set; you should get above 48%."
      ]
    },
    {
      "metadata": {
        "id": "B8u87P24HdXI",
        "colab_type": "code",
        "colab": {
          "base_uri": "https://localhost:8080/",
          "height": 34
        },
        "outputId": "b6adc5de-3f49-4481-9905-12e3e959e2df"
      },
      "cell_type": "code",
      "source": [
        "test_acc = (best_net.predict(X_test) == y_test).mean()\n",
        "print('Test accuracy: ', test_acc)"
      ],
      "execution_count": 0,
      "outputs": [
        {
          "output_type": "stream",
          "text": [
            "Test accuracy:  0.483\n"
          ],
          "name": "stdout"
        }
      ]
    },
    {
      "metadata": {
        "id": "txyvesRXf4Zc",
        "colab_type": "text"
      },
      "cell_type": "markdown",
      "source": [
        "*Many thanks to Stanford CS231n for permission to use their materials!*\n",
        "\n"
      ]
    }
  ]
}